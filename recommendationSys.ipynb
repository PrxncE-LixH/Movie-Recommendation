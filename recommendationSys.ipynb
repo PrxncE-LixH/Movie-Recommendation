{
 "cells": [
  {
   "cell_type": "code",
   "execution_count": 1,
   "metadata": {
    "colab": {
     "base_uri": "https://localhost:8080/"
    },
    "id": "Z3BUcu5GV8Ok",
    "outputId": "18fe0318-711f-4a1a-b8df-6c1b247a8eb9"
   },
   "outputs": [
    {
     "name": "stdout",
     "output_type": "stream",
     "text": [
      "Mounted at /content/drive\n"
     ]
    }
   ],
   "source": [
    "# from google.colab import drive\n",
    "# drive.mount ('/content/drive')\n"
   ]
  },
  {
   "cell_type": "code",
   "execution_count": 2,
   "metadata": {
    "id": "QiKbHKpUuIKt"
   },
   "outputs": [],
   "source": []
  },
  {
   "cell_type": "code",
   "execution_count": 1,
   "metadata": {
    "id": "AY6cJmxtZOM3"
   },
   "outputs": [],
   "source": [
    "import pandas as pd\n",
    "import numpy as np\n",
    "from sklearn.feature_extraction.text import CountVectorizer\n",
    "from sklearn.metrics.pairwise import cosine_similarity"
   ]
  },
  {
   "cell_type": "code",
   "execution_count": 2,
   "metadata": {
    "colab": {
     "base_uri": "https://localhost:8080/"
    },
    "id": "okZVFaIeYmsw",
    "outputId": "005d1da7-e5c4-4442-ca34-67154497b4f2"
   },
   "outputs": [
    {
     "data": {
      "text/plain": [
       "0                                      Avatar\n",
       "1    Pirates of the Caribbean: At World's End\n",
       "2                                     Spectre\n",
       "3                       The Dark Knight Rises\n",
       "4                                 John Carter\n",
       "5                                Spider-Man 3\n",
       "6                                     Tangled\n",
       "7                     Avengers: Age of Ultron\n",
       "8      Harry Potter and the Half-Blood Prince\n",
       "9          Batman v Superman: Dawn of Justice\n",
       "Name: original_title, dtype: object"
      ]
     },
     "execution_count": 2,
     "metadata": {},
     "output_type": "execute_result"
    }
   ],
   "source": [
    "file = pd.read_csv('movie_dataset.csv')\n",
    "#print(file.columns)\n",
    "file.original_title.head(10)"
   ]
  },
  {
   "cell_type": "code",
   "execution_count": 3,
   "metadata": {
    "colab": {
     "base_uri": "https://localhost:8080/"
    },
    "id": "qX3hTfLZbv_V",
    "outputId": "45bf763c-b440-4eb5-ae9e-ed84939a7591"
   },
   "outputs": [
    {
     "name": "stdout",
     "output_type": "stream",
     "text": [
      "Spider-Man 3\n",
      "159\n"
     ]
    }
   ],
   "source": [
    "def getTitleFromIndex(index):\n",
    "  return file[file.index == index]['title'].values[0]\n",
    "\n",
    "def getIndexFromTitle(title):\n",
    "  return file[file.title == title]['index'].values[0]\n",
    "\n",
    "features = ['keywords', 'cast', 'genres','director']\n",
    "\n",
    "for feature in features:\n",
    "  file[feature] = file[feature].fillna('')\n",
    "\n",
    "print(getTitleFromIndex(5))\n",
    "print(getIndexFromTitle('Spider-Man'))\n",
    "\n"
   ]
  },
  {
   "cell_type": "markdown",
   "metadata": {
    "id": "FQoApggUf5Cu"
   },
   "source": [
    "\n",
    " a column combining a features specified\n",
    "****\n",
    "\n",
    "\n",
    "\n"
   ]
  },
  {
   "cell_type": "code",
   "execution_count": 4,
   "metadata": {
    "colab": {
     "base_uri": "https://localhost:8080/"
    },
    "id": "wj3DDAqhgEJ6",
    "outputId": "34eb15eb-8282-418c-c998-b3c5145eeafa"
   },
   "outputs": [
    {
     "data": {
      "text/plain": [
       "0       culture clash future space war space colony so...\n",
       "1       ocean drug abuse exotic island east india trad...\n",
       "2       spy based on novel secret agent sequel mi6 Dan...\n",
       "3       dc comics crime fighter terrorist secret ident...\n",
       "4       based on novel mars medallion space travel pri...\n",
       "                              ...                        \n",
       "4798    united states\\u2013mexico barrier legs arms pa...\n",
       "4799     Edward Burns Kerry Bish\\u00e9 Marsha Dietlein...\n",
       "4800    date love at first sight narration investigati...\n",
       "4801     Daniel Henney Eliza Coupe Bill Paxton Alan Ru...\n",
       "4802    obsession camcorder crush dream girl Drew Barr...\n",
       "Name: combineFeatures, Length: 4803, dtype: object"
      ]
     },
     "execution_count": 4,
     "metadata": {},
     "output_type": "execute_result"
    }
   ],
   "source": [
    "def combineFeatures(row):\n",
    "  try:\n",
    "    text = row['keywords'] + ' ' + row['cast'] + ' ' + row['genres'] + ' ' + row['director']\n",
    "    return text\n",
    "\n",
    "  except:\n",
    "    print(\"Error: \", row['index'])\n",
    "\n",
    "file['combineFeatures'] = file.apply(combineFeatures, axis=1)\n",
    "file['combineFeatures']\n"
   ]
  },
  {
   "cell_type": "markdown",
   "metadata": {
    "id": "YABZZKSD2NEw"
   },
   "source": [
    "a count matix from the combined features\n"
   ]
  },
  {
   "cell_type": "code",
   "execution_count": 5,
   "metadata": {
    "id": "I4fUNyjx2TbK"
   },
   "outputs": [],
   "source": [
    "cv = CountVectorizer()\n",
    "countMatrix = cv.fit_transform(file['combineFeatures'])\n",
    "\n",
    "cosineSim = cosine_similarity(countMatrix)\n",
    "\n"
   ]
  },
  {
   "cell_type": "code",
   "execution_count": 6,
   "metadata": {
    "colab": {
     "base_uri": "https://localhost:8080/"
    },
    "id": "ip_OuacoBzNo",
    "outputId": "a0bd2789-b65c-4cc1-c248-a76e1fa07047"
   },
   "outputs": [
    {
     "name": "stdout",
     "output_type": "stream",
     "text": [
      "What is your favorite movie: Avatar\n",
      "Top picks based on  Avatar \n",
      "\n",
      "Avatar\n",
      "Guardians of the Galaxy\n",
      "Aliens\n",
      "Star Wars: Clone Wars: Volume 1\n",
      "Star Trek Into Darkness\n",
      "Star Trek Beyond\n"
     ]
    }
   ],
   "source": [
    "def movieFinder():\n",
    "  userMovie = input('What is your favorite movie: ')\n",
    "  movieIndex = getIndexFromTitle(userMovie)\n",
    "  similarMovies = list(enumerate(cosineSim[movieIndex]))\n",
    "  sortedSimilarMovies = sorted(similarMovies, key= lambda x:x[1], reverse=True)\n",
    "  i = 0\n",
    "  print('Top picks based on ',userMovie, '\\n')\n",
    "  for movie in sortedSimilarMovies:\n",
    "    print(getTitleFromIndex(movie[0]))\n",
    "    i = i+1\n",
    "\n",
    "    if i > 5:\n",
    "      break\n",
    "\n",
    "movieFinder()"
   ]
  }
 ],
 "metadata": {
  "colab": {
   "provenance": []
  },
  "kernelspec": {
   "display_name": "Python 3 (ipykernel)",
   "language": "python",
   "name": "python3"
  },
  "language_info": {
   "codemirror_mode": {
    "name": "ipython",
    "version": 3
   },
   "file_extension": ".py",
   "mimetype": "text/x-python",
   "name": "python",
   "nbconvert_exporter": "python",
   "pygments_lexer": "ipython3",
   "version": "3.11.4"
  }
 },
 "nbformat": 4,
 "nbformat_minor": 1
}
